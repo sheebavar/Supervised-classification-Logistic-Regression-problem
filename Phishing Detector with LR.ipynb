{
 "cells": [
  {
   "cell_type": "markdown",
   "metadata": {},
   "source": [
    "# Phishing Detector with LR"
   ]
  },
  {
   "cell_type": "markdown",
   "metadata": {},
   "source": [
    "DESCRIPTION\n",
    "\n",
    "Background of Problem Statement :\n",
    "You are expected to write the code for a binary classification model (phishing website or not) using Python Scikit-Learn that trains on the data and calculates the accuracy score on the test data. You have to use one or more of the classification algorithms to train a model on the phishing website dataset.\n",
    "\n",
    "Problem Objective :\n",
    "The dataset is a text file which provides the following resources that can be used as inputs for model building :\n",
    "A collection of website URLs for 11000+ websites. \n",
    "Each sample has 30 website parameters and a class label identifying it as a phishing website or not (1 or -1).\n",
    " \n",
    "The code template containing these code blocks:\n",
    "Import modules (Part 1)\n",
    "Load data function + input/output field descriptions\n",
    "The dataset also serves as an input for project scoping and tries to specify the functional and non-functional requirements for it.\n",
    "\n",
    "Domain: Cyber Security and Web Mining\n",
    "\n",
    "Questions to be answered with analysis :\n",
    "\n",
    "Write the code for a binary classification model (phishing website or not) using Python Scikit-Learn that trains on the data and calculates the accuracy score on the test data.\n",
    "Use one or more of the classification algorithms to train a model on the phishing website dataset."
   ]
  },
  {
   "cell_type": "code",
   "execution_count": 4,
   "metadata": {},
   "outputs": [],
   "source": [
    "import numpy as np\n",
    "import pandas as pd\n",
    "import matplotlib.pyplot as plt\n",
    "%matplotlib inline\n",
    "import seaborn as sns\n",
    "\n",
    "from sklearn.linear_model import LogisticRegression\n",
    "\n",
    "import warnings\n",
    "warnings.filterwarnings('ignore')\n",
    "\n",
    "from sklearn.model_selection import train_test_split\n",
    "\n",
    "from sklearn.metrics import accuracy_score, confusion_matrix, classification_report"
   ]
  },
  {
   "cell_type": "code",
   "execution_count": 13,
   "metadata": {},
   "outputs": [],
   "source": [
    "df=pd.read_csv('phishing.txt',sep=',',header=None)\n",
    "df.columns=[ 'UsingIP', 'LongURL', 'ShortURL', 'Symbol@', 'Redirecting//',\n",
    "           'PrefixSuffix-', 'SubDomains', 'HTTPS', 'DomainRegLen', 'Favicon',\n",
    "           'NonStdPort', 'HTTPSDomainURL', 'RequestURL', 'AnchorURL',\n",
    "           'LinksInScriptTags', 'ServerFormHandler', 'InfoEmail', 'AbnormalURL',\n",
    "           'WebsiteForwarding', 'StatusBarCust', 'DisableRightClick',\n",
    "           'UsingPopupWindow', 'IframeRedirection', 'AgeofDomain',\n",
    "           'DNSRecording', 'WebsiteTraffic', 'PageRank', 'GoogleIndex',\n",
    "           'LinksPointingToPage', 'StatsReport', 'class' ]"
   ]
  },
  {
   "cell_type": "code",
   "execution_count": 14,
   "metadata": {},
   "outputs": [
    {
     "data": {
      "text/html": [
       "<div>\n",
       "<style scoped>\n",
       "    .dataframe tbody tr th:only-of-type {\n",
       "        vertical-align: middle;\n",
       "    }\n",
       "\n",
       "    .dataframe tbody tr th {\n",
       "        vertical-align: top;\n",
       "    }\n",
       "\n",
       "    .dataframe thead th {\n",
       "        text-align: right;\n",
       "    }\n",
       "</style>\n",
       "<table border=\"1\" class=\"dataframe\">\n",
       "  <thead>\n",
       "    <tr style=\"text-align: right;\">\n",
       "      <th></th>\n",
       "      <th>UsingIP</th>\n",
       "      <th>LongURL</th>\n",
       "      <th>ShortURL</th>\n",
       "      <th>Symbol@</th>\n",
       "      <th>Redirecting//</th>\n",
       "      <th>PrefixSuffix-</th>\n",
       "      <th>SubDomains</th>\n",
       "      <th>HTTPS</th>\n",
       "      <th>DomainRegLen</th>\n",
       "      <th>Favicon</th>\n",
       "      <th>...</th>\n",
       "      <th>UsingPopupWindow</th>\n",
       "      <th>IframeRedirection</th>\n",
       "      <th>AgeofDomain</th>\n",
       "      <th>DNSRecording</th>\n",
       "      <th>WebsiteTraffic</th>\n",
       "      <th>PageRank</th>\n",
       "      <th>GoogleIndex</th>\n",
       "      <th>LinksPointingToPage</th>\n",
       "      <th>StatsReport</th>\n",
       "      <th>class</th>\n",
       "    </tr>\n",
       "  </thead>\n",
       "  <tbody>\n",
       "    <tr>\n",
       "      <th>0</th>\n",
       "      <td>-1</td>\n",
       "      <td>1</td>\n",
       "      <td>1</td>\n",
       "      <td>1</td>\n",
       "      <td>-1</td>\n",
       "      <td>-1</td>\n",
       "      <td>-1</td>\n",
       "      <td>-1</td>\n",
       "      <td>-1</td>\n",
       "      <td>1</td>\n",
       "      <td>...</td>\n",
       "      <td>1</td>\n",
       "      <td>1</td>\n",
       "      <td>-1</td>\n",
       "      <td>-1</td>\n",
       "      <td>-1</td>\n",
       "      <td>-1</td>\n",
       "      <td>1</td>\n",
       "      <td>1</td>\n",
       "      <td>-1</td>\n",
       "      <td>-1</td>\n",
       "    </tr>\n",
       "    <tr>\n",
       "      <th>1</th>\n",
       "      <td>1</td>\n",
       "      <td>1</td>\n",
       "      <td>1</td>\n",
       "      <td>1</td>\n",
       "      <td>1</td>\n",
       "      <td>-1</td>\n",
       "      <td>0</td>\n",
       "      <td>1</td>\n",
       "      <td>-1</td>\n",
       "      <td>1</td>\n",
       "      <td>...</td>\n",
       "      <td>1</td>\n",
       "      <td>1</td>\n",
       "      <td>-1</td>\n",
       "      <td>-1</td>\n",
       "      <td>0</td>\n",
       "      <td>-1</td>\n",
       "      <td>1</td>\n",
       "      <td>1</td>\n",
       "      <td>1</td>\n",
       "      <td>-1</td>\n",
       "    </tr>\n",
       "  </tbody>\n",
       "</table>\n",
       "<p>2 rows × 31 columns</p>\n",
       "</div>"
      ],
      "text/plain": [
       "   UsingIP  LongURL  ShortURL  Symbol@  Redirecting//  PrefixSuffix-  \\\n",
       "0       -1        1         1        1             -1             -1   \n",
       "1        1        1         1        1              1             -1   \n",
       "\n",
       "   SubDomains  HTTPS  DomainRegLen  Favicon  ...  UsingPopupWindow  \\\n",
       "0          -1     -1            -1        1  ...                 1   \n",
       "1           0      1            -1        1  ...                 1   \n",
       "\n",
       "   IframeRedirection  AgeofDomain  DNSRecording  WebsiteTraffic  PageRank  \\\n",
       "0                  1           -1            -1              -1        -1   \n",
       "1                  1           -1            -1               0        -1   \n",
       "\n",
       "   GoogleIndex  LinksPointingToPage  StatsReport  class  \n",
       "0            1                    1           -1     -1  \n",
       "1            1                    1            1     -1  \n",
       "\n",
       "[2 rows x 31 columns]"
      ]
     },
     "execution_count": 14,
     "metadata": {},
     "output_type": "execute_result"
    }
   ],
   "source": [
    "df.head(2)"
   ]
  },
  {
   "cell_type": "code",
   "execution_count": 27,
   "metadata": {},
   "outputs": [
    {
     "name": "stdout",
     "output_type": "stream",
     "text": [
      "<class 'pandas.core.frame.DataFrame'>\n",
      "RangeIndex: 11055 entries, 0 to 11054\n",
      "Data columns (total 31 columns):\n",
      "UsingIP                11055 non-null int64\n",
      "LongURL                11055 non-null int64\n",
      "ShortURL               11055 non-null int64\n",
      "Symbol@                11055 non-null int64\n",
      "Redirecting//          11055 non-null int64\n",
      "PrefixSuffix-          11055 non-null int64\n",
      "SubDomains             11055 non-null int64\n",
      "HTTPS                  11055 non-null int64\n",
      "DomainRegLen           11055 non-null int64\n",
      "Favicon                11055 non-null int64\n",
      "NonStdPort             11055 non-null int64\n",
      "HTTPSDomainURL         11055 non-null int64\n",
      "RequestURL             11055 non-null int64\n",
      "AnchorURL              11055 non-null int64\n",
      "LinksInScriptTags      11055 non-null int64\n",
      "ServerFormHandler      11055 non-null int64\n",
      "InfoEmail              11055 non-null int64\n",
      "AbnormalURL            11055 non-null int64\n",
      "WebsiteForwarding      11055 non-null int64\n",
      "StatusBarCust          11055 non-null int64\n",
      "DisableRightClick      11055 non-null int64\n",
      "UsingPopupWindow       11055 non-null int64\n",
      "IframeRedirection      11055 non-null int64\n",
      "AgeofDomain            11055 non-null int64\n",
      "DNSRecording           11055 non-null int64\n",
      "WebsiteTraffic         11055 non-null int64\n",
      "PageRank               11055 non-null int64\n",
      "GoogleIndex            11055 non-null int64\n",
      "LinksPointingToPage    11055 non-null int64\n",
      "StatsReport            11055 non-null int64\n",
      "class                  11055 non-null int64\n",
      "dtypes: int64(31)\n",
      "memory usage: 2.6 MB\n"
     ]
    },
    {
     "data": {
      "text/plain": [
       "(Index(['UsingIP', 'LongURL', 'ShortURL', 'Symbol@', 'Redirecting//',\n",
       "        'PrefixSuffix-', 'SubDomains', 'HTTPS', 'DomainRegLen', 'Favicon',\n",
       "        'NonStdPort', 'HTTPSDomainURL', 'RequestURL', 'AnchorURL',\n",
       "        'LinksInScriptTags', 'ServerFormHandler', 'InfoEmail', 'AbnormalURL',\n",
       "        'WebsiteForwarding', 'StatusBarCust', 'DisableRightClick',\n",
       "        'UsingPopupWindow', 'IframeRedirection', 'AgeofDomain', 'DNSRecording',\n",
       "        'WebsiteTraffic', 'PageRank', 'GoogleIndex', 'LinksPointingToPage',\n",
       "        'StatsReport', 'class'],\n",
       "       dtype='object'), (11055, 31), None)"
      ]
     },
     "execution_count": 27,
     "metadata": {},
     "output_type": "execute_result"
    }
   ],
   "source": [
    "df.columns,df.shape,df.info()"
   ]
  },
  {
   "cell_type": "code",
   "execution_count": 18,
   "metadata": {},
   "outputs": [
    {
     "data": {
      "text/plain": [
       "UsingIP                int64\n",
       "LongURL                int64\n",
       "ShortURL               int64\n",
       "Symbol@                int64\n",
       "Redirecting//          int64\n",
       "PrefixSuffix-          int64\n",
       "SubDomains             int64\n",
       "HTTPS                  int64\n",
       "DomainRegLen           int64\n",
       "Favicon                int64\n",
       "NonStdPort             int64\n",
       "HTTPSDomainURL         int64\n",
       "RequestURL             int64\n",
       "AnchorURL              int64\n",
       "LinksInScriptTags      int64\n",
       "ServerFormHandler      int64\n",
       "InfoEmail              int64\n",
       "AbnormalURL            int64\n",
       "WebsiteForwarding      int64\n",
       "StatusBarCust          int64\n",
       "DisableRightClick      int64\n",
       "UsingPopupWindow       int64\n",
       "IframeRedirection      int64\n",
       "AgeofDomain            int64\n",
       "DNSRecording           int64\n",
       "WebsiteTraffic         int64\n",
       "PageRank               int64\n",
       "GoogleIndex            int64\n",
       "LinksPointingToPage    int64\n",
       "StatsReport            int64\n",
       "class                  int64\n",
       "dtype: object"
      ]
     },
     "execution_count": 18,
     "metadata": {},
     "output_type": "execute_result"
    }
   ],
   "source": [
    "df.dtypes"
   ]
  },
  {
   "cell_type": "code",
   "execution_count": 28,
   "metadata": {},
   "outputs": [
    {
     "data": {
      "text/html": [
       "<div>\n",
       "<style scoped>\n",
       "    .dataframe tbody tr th:only-of-type {\n",
       "        vertical-align: middle;\n",
       "    }\n",
       "\n",
       "    .dataframe tbody tr th {\n",
       "        vertical-align: top;\n",
       "    }\n",
       "\n",
       "    .dataframe thead th {\n",
       "        text-align: right;\n",
       "    }\n",
       "</style>\n",
       "<table border=\"1\" class=\"dataframe\">\n",
       "  <thead>\n",
       "    <tr style=\"text-align: right;\">\n",
       "      <th></th>\n",
       "      <th>UsingIP</th>\n",
       "      <th>LongURL</th>\n",
       "      <th>ShortURL</th>\n",
       "      <th>Symbol@</th>\n",
       "      <th>Redirecting//</th>\n",
       "      <th>PrefixSuffix-</th>\n",
       "      <th>SubDomains</th>\n",
       "      <th>HTTPS</th>\n",
       "      <th>DomainRegLen</th>\n",
       "      <th>Favicon</th>\n",
       "      <th>...</th>\n",
       "      <th>UsingPopupWindow</th>\n",
       "      <th>IframeRedirection</th>\n",
       "      <th>AgeofDomain</th>\n",
       "      <th>DNSRecording</th>\n",
       "      <th>WebsiteTraffic</th>\n",
       "      <th>PageRank</th>\n",
       "      <th>GoogleIndex</th>\n",
       "      <th>LinksPointingToPage</th>\n",
       "      <th>StatsReport</th>\n",
       "      <th>class</th>\n",
       "    </tr>\n",
       "  </thead>\n",
       "  <tbody>\n",
       "    <tr>\n",
       "      <th>count</th>\n",
       "      <td>11055.000000</td>\n",
       "      <td>11055.000000</td>\n",
       "      <td>11055.000000</td>\n",
       "      <td>11055.000000</td>\n",
       "      <td>11055.000000</td>\n",
       "      <td>11055.000000</td>\n",
       "      <td>11055.000000</td>\n",
       "      <td>11055.000000</td>\n",
       "      <td>11055.000000</td>\n",
       "      <td>11055.000000</td>\n",
       "      <td>...</td>\n",
       "      <td>11055.000000</td>\n",
       "      <td>11055.000000</td>\n",
       "      <td>11055.000000</td>\n",
       "      <td>11055.000000</td>\n",
       "      <td>11055.000000</td>\n",
       "      <td>11055.000000</td>\n",
       "      <td>11055.000000</td>\n",
       "      <td>11055.000000</td>\n",
       "      <td>11055.000000</td>\n",
       "      <td>11055.000000</td>\n",
       "    </tr>\n",
       "    <tr>\n",
       "      <th>mean</th>\n",
       "      <td>0.313795</td>\n",
       "      <td>-0.633198</td>\n",
       "      <td>0.738761</td>\n",
       "      <td>0.700588</td>\n",
       "      <td>0.741474</td>\n",
       "      <td>-0.734962</td>\n",
       "      <td>0.063953</td>\n",
       "      <td>0.250927</td>\n",
       "      <td>-0.336771</td>\n",
       "      <td>0.628584</td>\n",
       "      <td>...</td>\n",
       "      <td>0.613388</td>\n",
       "      <td>0.816915</td>\n",
       "      <td>0.061239</td>\n",
       "      <td>0.377114</td>\n",
       "      <td>0.287291</td>\n",
       "      <td>-0.483673</td>\n",
       "      <td>0.721574</td>\n",
       "      <td>0.344007</td>\n",
       "      <td>0.719584</td>\n",
       "      <td>0.113885</td>\n",
       "    </tr>\n",
       "    <tr>\n",
       "      <th>std</th>\n",
       "      <td>0.949534</td>\n",
       "      <td>0.766095</td>\n",
       "      <td>0.673998</td>\n",
       "      <td>0.713598</td>\n",
       "      <td>0.671011</td>\n",
       "      <td>0.678139</td>\n",
       "      <td>0.817518</td>\n",
       "      <td>0.911892</td>\n",
       "      <td>0.941629</td>\n",
       "      <td>0.777777</td>\n",
       "      <td>...</td>\n",
       "      <td>0.789818</td>\n",
       "      <td>0.576784</td>\n",
       "      <td>0.998168</td>\n",
       "      <td>0.926209</td>\n",
       "      <td>0.827733</td>\n",
       "      <td>0.875289</td>\n",
       "      <td>0.692369</td>\n",
       "      <td>0.569944</td>\n",
       "      <td>0.694437</td>\n",
       "      <td>0.993539</td>\n",
       "    </tr>\n",
       "    <tr>\n",
       "      <th>min</th>\n",
       "      <td>-1.000000</td>\n",
       "      <td>-1.000000</td>\n",
       "      <td>-1.000000</td>\n",
       "      <td>-1.000000</td>\n",
       "      <td>-1.000000</td>\n",
       "      <td>-1.000000</td>\n",
       "      <td>-1.000000</td>\n",
       "      <td>-1.000000</td>\n",
       "      <td>-1.000000</td>\n",
       "      <td>-1.000000</td>\n",
       "      <td>...</td>\n",
       "      <td>-1.000000</td>\n",
       "      <td>-1.000000</td>\n",
       "      <td>-1.000000</td>\n",
       "      <td>-1.000000</td>\n",
       "      <td>-1.000000</td>\n",
       "      <td>-1.000000</td>\n",
       "      <td>-1.000000</td>\n",
       "      <td>-1.000000</td>\n",
       "      <td>-1.000000</td>\n",
       "      <td>-1.000000</td>\n",
       "    </tr>\n",
       "    <tr>\n",
       "      <th>25%</th>\n",
       "      <td>-1.000000</td>\n",
       "      <td>-1.000000</td>\n",
       "      <td>1.000000</td>\n",
       "      <td>1.000000</td>\n",
       "      <td>1.000000</td>\n",
       "      <td>-1.000000</td>\n",
       "      <td>-1.000000</td>\n",
       "      <td>-1.000000</td>\n",
       "      <td>-1.000000</td>\n",
       "      <td>1.000000</td>\n",
       "      <td>...</td>\n",
       "      <td>1.000000</td>\n",
       "      <td>1.000000</td>\n",
       "      <td>-1.000000</td>\n",
       "      <td>-1.000000</td>\n",
       "      <td>0.000000</td>\n",
       "      <td>-1.000000</td>\n",
       "      <td>1.000000</td>\n",
       "      <td>0.000000</td>\n",
       "      <td>1.000000</td>\n",
       "      <td>-1.000000</td>\n",
       "    </tr>\n",
       "    <tr>\n",
       "      <th>50%</th>\n",
       "      <td>1.000000</td>\n",
       "      <td>-1.000000</td>\n",
       "      <td>1.000000</td>\n",
       "      <td>1.000000</td>\n",
       "      <td>1.000000</td>\n",
       "      <td>-1.000000</td>\n",
       "      <td>0.000000</td>\n",
       "      <td>1.000000</td>\n",
       "      <td>-1.000000</td>\n",
       "      <td>1.000000</td>\n",
       "      <td>...</td>\n",
       "      <td>1.000000</td>\n",
       "      <td>1.000000</td>\n",
       "      <td>1.000000</td>\n",
       "      <td>1.000000</td>\n",
       "      <td>1.000000</td>\n",
       "      <td>-1.000000</td>\n",
       "      <td>1.000000</td>\n",
       "      <td>0.000000</td>\n",
       "      <td>1.000000</td>\n",
       "      <td>1.000000</td>\n",
       "    </tr>\n",
       "    <tr>\n",
       "      <th>75%</th>\n",
       "      <td>1.000000</td>\n",
       "      <td>-1.000000</td>\n",
       "      <td>1.000000</td>\n",
       "      <td>1.000000</td>\n",
       "      <td>1.000000</td>\n",
       "      <td>-1.000000</td>\n",
       "      <td>1.000000</td>\n",
       "      <td>1.000000</td>\n",
       "      <td>1.000000</td>\n",
       "      <td>1.000000</td>\n",
       "      <td>...</td>\n",
       "      <td>1.000000</td>\n",
       "      <td>1.000000</td>\n",
       "      <td>1.000000</td>\n",
       "      <td>1.000000</td>\n",
       "      <td>1.000000</td>\n",
       "      <td>1.000000</td>\n",
       "      <td>1.000000</td>\n",
       "      <td>1.000000</td>\n",
       "      <td>1.000000</td>\n",
       "      <td>1.000000</td>\n",
       "    </tr>\n",
       "    <tr>\n",
       "      <th>max</th>\n",
       "      <td>1.000000</td>\n",
       "      <td>1.000000</td>\n",
       "      <td>1.000000</td>\n",
       "      <td>1.000000</td>\n",
       "      <td>1.000000</td>\n",
       "      <td>1.000000</td>\n",
       "      <td>1.000000</td>\n",
       "      <td>1.000000</td>\n",
       "      <td>1.000000</td>\n",
       "      <td>1.000000</td>\n",
       "      <td>...</td>\n",
       "      <td>1.000000</td>\n",
       "      <td>1.000000</td>\n",
       "      <td>1.000000</td>\n",
       "      <td>1.000000</td>\n",
       "      <td>1.000000</td>\n",
       "      <td>1.000000</td>\n",
       "      <td>1.000000</td>\n",
       "      <td>1.000000</td>\n",
       "      <td>1.000000</td>\n",
       "      <td>1.000000</td>\n",
       "    </tr>\n",
       "  </tbody>\n",
       "</table>\n",
       "<p>8 rows × 31 columns</p>\n",
       "</div>"
      ],
      "text/plain": [
       "            UsingIP       LongURL      ShortURL       Symbol@  Redirecting//  \\\n",
       "count  11055.000000  11055.000000  11055.000000  11055.000000   11055.000000   \n",
       "mean       0.313795     -0.633198      0.738761      0.700588       0.741474   \n",
       "std        0.949534      0.766095      0.673998      0.713598       0.671011   \n",
       "min       -1.000000     -1.000000     -1.000000     -1.000000      -1.000000   \n",
       "25%       -1.000000     -1.000000      1.000000      1.000000       1.000000   \n",
       "50%        1.000000     -1.000000      1.000000      1.000000       1.000000   \n",
       "75%        1.000000     -1.000000      1.000000      1.000000       1.000000   \n",
       "max        1.000000      1.000000      1.000000      1.000000       1.000000   \n",
       "\n",
       "       PrefixSuffix-    SubDomains         HTTPS  DomainRegLen       Favicon  \\\n",
       "count   11055.000000  11055.000000  11055.000000  11055.000000  11055.000000   \n",
       "mean       -0.734962      0.063953      0.250927     -0.336771      0.628584   \n",
       "std         0.678139      0.817518      0.911892      0.941629      0.777777   \n",
       "min        -1.000000     -1.000000     -1.000000     -1.000000     -1.000000   \n",
       "25%        -1.000000     -1.000000     -1.000000     -1.000000      1.000000   \n",
       "50%        -1.000000      0.000000      1.000000     -1.000000      1.000000   \n",
       "75%        -1.000000      1.000000      1.000000      1.000000      1.000000   \n",
       "max         1.000000      1.000000      1.000000      1.000000      1.000000   \n",
       "\n",
       "       ...  UsingPopupWindow  IframeRedirection   AgeofDomain  DNSRecording  \\\n",
       "count  ...      11055.000000       11055.000000  11055.000000  11055.000000   \n",
       "mean   ...          0.613388           0.816915      0.061239      0.377114   \n",
       "std    ...          0.789818           0.576784      0.998168      0.926209   \n",
       "min    ...         -1.000000          -1.000000     -1.000000     -1.000000   \n",
       "25%    ...          1.000000           1.000000     -1.000000     -1.000000   \n",
       "50%    ...          1.000000           1.000000      1.000000      1.000000   \n",
       "75%    ...          1.000000           1.000000      1.000000      1.000000   \n",
       "max    ...          1.000000           1.000000      1.000000      1.000000   \n",
       "\n",
       "       WebsiteTraffic      PageRank   GoogleIndex  LinksPointingToPage  \\\n",
       "count    11055.000000  11055.000000  11055.000000         11055.000000   \n",
       "mean         0.287291     -0.483673      0.721574             0.344007   \n",
       "std          0.827733      0.875289      0.692369             0.569944   \n",
       "min         -1.000000     -1.000000     -1.000000            -1.000000   \n",
       "25%          0.000000     -1.000000      1.000000             0.000000   \n",
       "50%          1.000000     -1.000000      1.000000             0.000000   \n",
       "75%          1.000000      1.000000      1.000000             1.000000   \n",
       "max          1.000000      1.000000      1.000000             1.000000   \n",
       "\n",
       "        StatsReport         class  \n",
       "count  11055.000000  11055.000000  \n",
       "mean       0.719584      0.113885  \n",
       "std        0.694437      0.993539  \n",
       "min       -1.000000     -1.000000  \n",
       "25%        1.000000     -1.000000  \n",
       "50%        1.000000      1.000000  \n",
       "75%        1.000000      1.000000  \n",
       "max        1.000000      1.000000  \n",
       "\n",
       "[8 rows x 31 columns]"
      ]
     },
     "execution_count": 28,
     "metadata": {},
     "output_type": "execute_result"
    }
   ],
   "source": [
    "df.describe()"
   ]
  },
  {
   "cell_type": "code",
   "execution_count": 21,
   "metadata": {},
   "outputs": [],
   "source": [
    "target='class'\n",
    "x=df[[col for col in df.columns if col != target]]\n",
    "y=df['class']"
   ]
  },
  {
   "cell_type": "code",
   "execution_count": 23,
   "metadata": {},
   "outputs": [
    {
     "name": "stdout",
     "output_type": "stream",
     "text": [
      "x_train:- (7738, 30)\n",
      "x_test:- (3317, 30)\n",
      "y_train:- (7738,)\n",
      "y_test:- (3317,)\n"
     ]
    }
   ],
   "source": [
    "x_train,x_test,y_train,y_test=train_test_split(x,y,test_size=0.3,random_state=1)\n",
    "print('x_train:-',x_train.shape)\n",
    "print('x_test:-',x_test.shape)\n",
    "print('y_train:-',y_train.shape)\n",
    "print('y_test:-',y_test.shape)"
   ]
  },
  {
   "cell_type": "markdown",
   "metadata": {},
   "source": [
    "### Build a phishing website classifier using Logistic Regression with “C” parameter = 100"
   ]
  },
  {
   "cell_type": "code",
   "execution_count": 98,
   "metadata": {},
   "outputs": [
    {
     "data": {
      "text/plain": [
       "LogisticRegression(C=100, class_weight=None, dual=False, fit_intercept=True,\n",
       "          intercept_scaling=1, max_iter=100, multi_class='warn',\n",
       "          n_jobs=None, penalty='l2', random_state=None, solver='warn',\n",
       "          tol=0.0001, verbose=0, warm_start=False)"
      ]
     },
     "execution_count": 98,
     "metadata": {},
     "output_type": "execute_result"
    }
   ],
   "source": [
    "logreg=LogisticRegression(C=100)\n",
    "logreg.fit(x_train,y_train)"
   ]
  },
  {
   "cell_type": "code",
   "execution_count": 99,
   "metadata": {},
   "outputs": [
    {
     "data": {
      "text/plain": [
       " 1    1827\n",
       "-1    1490\n",
       "Name: class, dtype: int64"
      ]
     },
     "execution_count": 99,
     "metadata": {},
     "output_type": "execute_result"
    }
   ],
   "source": [
    "y_test.value_counts()"
   ]
  },
  {
   "cell_type": "code",
   "execution_count": 100,
   "metadata": {},
   "outputs": [],
   "source": [
    "from sklearn.model_selection import cross_validate"
   ]
  },
  {
   "cell_type": "code",
   "execution_count": 101,
   "metadata": {},
   "outputs": [
    {
     "name": "stdout",
     "output_type": "stream",
     "text": [
      "fit_time 0.3581591844558716\n",
      "score_time 0.004431462287902832\n",
      "test_score 0.9253719904201467\n",
      "train_score 0.9283984135274632\n"
     ]
    }
   ],
   "source": [
    "scores=cross_validate(logreg,X=x,y=y, scoring='accuracy',cv=10)\n",
    "\n",
    "for i in scores.keys():\n",
    "    print(i,scores[i].mean()) # Not much of overfitting , even with a high value for C parameter"
   ]
  },
  {
   "cell_type": "code",
   "execution_count": 88,
   "metadata": {},
   "outputs": [
    {
     "name": "stdout",
     "output_type": "stream",
     "text": [
      "Accuracy score of logistic regression with C as 100 is 0.93%\n",
      "\n",
      "misclassification rate of test data is 0.07% \n",
      "\n",
      "confusion matrix\n",
      "----------------\n",
      "[[1343  147]\n",
      " [  99 1728]]\n",
      "\n",
      "Classification Report\n",
      "----------------\n",
      "              precision    recall  f1-score   support\n",
      "\n",
      "          -1       0.93      0.90      0.92      1490\n",
      "           1       0.92      0.95      0.93      1827\n",
      "\n",
      "   micro avg       0.93      0.93      0.93      3317\n",
      "   macro avg       0.93      0.92      0.92      3317\n",
      "weighted avg       0.93      0.93      0.93      3317\n",
      "\n"
     ]
    }
   ],
   "source": [
    "y_pred1=logreg.predict(x_test)\n",
    "print(\"Accuracy score of logistic regression with C as 100 is {0:.02f}%\".format(accuracy_score(y_test,y_pred1)), end='\\n\\n')\n",
    "print(\"misclassification rate of test data is {0:.02f}% \" .format(1-accuracy_score(y_test,y_pred1)),end='\\n\\n')\n",
    "print(\"confusion matrix\") \n",
    "print(\"----------------\")\n",
    "print(confusion_matrix(y_test,y_pred1,labels=[-1,1]), end='\\n\\n')\n",
    "print(\"Classification Report\") \n",
    "print(\"----------------\")\n",
    "print(classification_report(y_test,y_pred1))"
   ]
  },
  {
   "cell_type": "code",
   "execution_count": 58,
   "metadata": {},
   "outputs": [],
   "source": [
    "from sklearn.metrics import roc_auc_score,roc_curve,auc"
   ]
  },
  {
   "cell_type": "code",
   "execution_count": 64,
   "metadata": {},
   "outputs": [
    {
     "data": {
      "text/plain": [
       "(array([0.        , 0.09865772, 1.        ]),\n",
       " array([0.        , 0.94581281, 1.        ]),\n",
       " array([ 2,  1, -1], dtype=int64))"
      ]
     },
     "execution_count": 64,
     "metadata": {},
     "output_type": "execute_result"
    }
   ],
   "source": [
    "fpr,tpr,thresholds=roc_curve(y_test,y_pred1)\n",
    "fpr,tpr,thresholds"
   ]
  },
  {
   "cell_type": "code",
   "execution_count": 65,
   "metadata": {},
   "outputs": [
    {
     "data": {
      "text/plain": [
       "0.923577544880484"
      ]
     },
     "execution_count": 65,
     "metadata": {},
     "output_type": "execute_result"
    }
   ],
   "source": [
    "auc_score=roc_auc_score(y_test,y_pred1)\n",
    "auc_score"
   ]
  },
  {
   "cell_type": "code",
   "execution_count": 72,
   "metadata": {},
   "outputs": [
    {
     "data": {
      "text/plain": [
       "[<matplotlib.lines.Line2D at 0x1be18763240>]"
      ]
     },
     "execution_count": 72,
     "metadata": {},
     "output_type": "execute_result"
    },
    {
     "data": {
      "image/png": "[encoded data removed]",
      "text/plain": [
       "<Figure size 432x288 with 1 Axes>"
      ]
     },
     "metadata": {
      "needs_background": "light"
     },
     "output_type": "display_data"
    }
   ],
   "source": [
    "plt.plot(fpr,tpr,c='g',fillstyle='full')"
   ]
  },
  {
   "cell_type": "code",
   "execution_count": 73,
   "metadata": {},
   "outputs": [],
   "source": [
    "from yellowbrick.classifier import ConfusionMatrix,class_prediction_error"
   ]
  },
  {
   "cell_type": "code",
   "execution_count": 79,
   "metadata": {},
   "outputs": [
    {
     "data": {
      "text/plain": [
       "0.9258365993367501"
      ]
     },
     "execution_count": 79,
     "metadata": {},
     "output_type": "execute_result"
    },
    {
     "data": {
      "image/png": "[encoded data removed]",
      "text/plain": [
       "<Figure size 576x396 with 1 Axes>"
      ]
     },
     "metadata": {},
     "output_type": "display_data"
    }
   ],
   "source": [
    "cm=ConfusionMatrix(logreg)\n",
    "cm.fit(x_train,y_train)\n",
    "cm.score(x_test,y_test)"
   ]
  },
  {
   "cell_type": "code",
   "execution_count": 80,
   "metadata": {},
   "outputs": [
    {
     "data": {
      "text/plain": [
       "ClassPredictionError(ax=<matplotlib.axes._subplots.AxesSubplot object at 0x000001BE1BD0C2E8>,\n",
       "           classes=None, encoder=None, force_model=False, is_fitted='auto',\n",
       "           model=None)"
      ]
     },
     "execution_count": 80,
     "metadata": {},
     "output_type": "execute_result"
    },
    {
     "data": {
      "image/png": "[encoded data removed]",
      "text/plain": [
       "<Figure size 576x396 with 1 Axes>"
      ]
     },
     "metadata": {},
     "output_type": "display_data"
    }
   ],
   "source": [
    "class_prediction_error(logreg,x,y)"
   ]
  },
  {
   "cell_type": "markdown",
   "metadata": {},
   "source": [
    "### Train with only two input parameters - parameter Prefix_Suffix and 13 URL_of_Anchor"
   ]
  },
  {
   "cell_type": "code",
   "execution_count": 105,
   "metadata": {},
   "outputs": [
    {
     "data": {
      "text/plain": [
       "Index(['UsingIP', 'LongURL', 'ShortURL', 'Symbol@', 'Redirecting//',\n",
       "       'PrefixSuffix-', 'SubDomains', 'HTTPS', 'DomainRegLen', 'Favicon',\n",
       "       'NonStdPort', 'HTTPSDomainURL', 'RequestURL', 'AnchorURL',\n",
       "       'LinksInScriptTags', 'ServerFormHandler', 'InfoEmail', 'AbnormalURL',\n",
       "       'WebsiteForwarding', 'StatusBarCust', 'DisableRightClick',\n",
       "       'UsingPopupWindow', 'IframeRedirection', 'AgeofDomain', 'DNSRecording',\n",
       "       'WebsiteTraffic', 'PageRank', 'GoogleIndex', 'LinksPointingToPage',\n",
       "       'StatsReport', 'class'],\n",
       "      dtype='object')"
      ]
     },
     "execution_count": 105,
     "metadata": {},
     "output_type": "execute_result"
    }
   ],
   "source": [
    "df.columns"
   ]
  },
  {
   "cell_type": "code",
   "execution_count": 108,
   "metadata": {},
   "outputs": [],
   "source": [
    "input_cols=['PrefixSuffix-','AnchorURL']\n",
    "x_train=x_train[input_cols]\n",
    "x_test=x_test[input_cols]"
   ]
  },
  {
   "cell_type": "code",
   "execution_count": 109,
   "metadata": {},
   "outputs": [
    {
     "name": "stdout",
     "output_type": "stream",
     "text": [
      "x_train:- (7738, 2)\n",
      "x_test:- (3317, 2)\n",
      "y_train:- (7738,)\n",
      "y_test:- (3317,)\n"
     ]
    }
   ],
   "source": [
    "print('x_train:-',x_train.shape)\n",
    "print('x_test:-',x_test.shape)\n",
    "print('y_train:-',y_train.shape)\n",
    "print('y_test:-',y_test.shape)"
   ]
  },
  {
   "cell_type": "code",
   "execution_count": 110,
   "metadata": {},
   "outputs": [
    {
     "data": {
      "text/plain": [
       "LogisticRegression(C=100, class_weight=None, dual=False, fit_intercept=True,\n",
       "          intercept_scaling=1, max_iter=100, multi_class='warn',\n",
       "          n_jobs=None, penalty='l2', random_state=None, solver='warn',\n",
       "          tol=0.0001, verbose=0, warm_start=False)"
      ]
     },
     "execution_count": 110,
     "metadata": {},
     "output_type": "execute_result"
    }
   ],
   "source": [
    "logreg.fit(x_train,y_train)"
   ]
  },
  {
   "cell_type": "code",
   "execution_count": 111,
   "metadata": {},
   "outputs": [],
   "source": [
    "y_pred2=logreg.predict(x_test)"
   ]
  },
  {
   "cell_type": "code",
   "execution_count": 112,
   "metadata": {},
   "outputs": [
    {
     "name": "stdout",
     "output_type": "stream",
     "text": [
      "Accuracy score of logistic regression with 2 features is 0.85%\n",
      "\n",
      "misclassification rate of test data is 0.15% \n",
      "\n",
      "confusion matrix\n",
      "----------------\n",
      "[[ 996  494]\n",
      " [   3 1824]]\n",
      "\n",
      "Classification Report\n",
      "----------------\n",
      "              precision    recall  f1-score   support\n",
      "\n",
      "          -1       1.00      0.67      0.80      1490\n",
      "           1       0.79      1.00      0.88      1827\n",
      "\n",
      "   micro avg       0.85      0.85      0.85      3317\n",
      "   macro avg       0.89      0.83      0.84      3317\n",
      "weighted avg       0.88      0.85      0.84      3317\n",
      "\n"
     ]
    }
   ],
   "source": [
    "print(\"Accuracy score of logistic regression with 2 features is {0:.02f}%\".format(accuracy_score(y_test,y_pred2)), end='\\n\\n')\n",
    "print(\"misclassification rate of test data is {0:.02f}% \" .format(1-accuracy_score(y_test,y_pred2)),end='\\n\\n')\n",
    "print(\"confusion matrix\") \n",
    "print(\"----------------\")\n",
    "print(confusion_matrix(y_test,y_pred2,labels=[-1,1]), end='\\n\\n')\n",
    "print(\"Classification Report\") \n",
    "print(\"----------------\")\n",
    "print(classification_report(y_test,y_pred2))"
   ]
  },
  {
   "cell_type": "markdown",
   "metadata": {},
   "source": [
    "Two input features are enough to get an accuracy score of 85%"
   ]
  },
  {
   "cell_type": "code",
   "execution_count": 114,
   "metadata": {},
   "outputs": [],
   "source": [
    "from mlxtend.plotting import plot_decision_regions"
   ]
  },
  {
   "cell_type": "code",
   "execution_count": 138,
   "metadata": {},
   "outputs": [
    {
     "data": {
      "image/png": "[encoded data removed]",
      "text/plain": [
       "<Figure size 864x432 with 1 Axes>"
      ]
     },
     "metadata": {},
     "output_type": "display_data"
    }
   ],
   "source": [
    "#x_new=x_test.iloc[:,0:2].values\n",
    "#y_new=y_test.values\n",
    "logreg.fit(x_new,y_new)\n",
    "\n",
    "plt.figure(figsize=(12,6))\n",
    "plot_decision_regions(X=x_test,y=y_test.values,clf=logreg)\n",
    "\n",
    "# Adding axes annotations\n",
    "plt.xlabel('Features')\n",
    "plt.ylabel('Target')\n",
    "plt.title('Logisttic Regression as Phishing detector classifier')\n",
    "plt.show()"
   ]
  },
  {
   "cell_type": "code",
   "execution_count": 155,
   "metadata": {},
   "outputs": [],
   "source": [
    "from sklearn.svm import SVC"
   ]
  },
  {
   "cell_type": "code",
   "execution_count": 159,
   "metadata": {},
   "outputs": [
    {
     "data": {
      "text/plain": [
       "0.8501658124811576"
      ]
     },
     "execution_count": 159,
     "metadata": {},
     "output_type": "execute_result"
    }
   ],
   "source": [
    "svc= SVC()\n",
    "svc.fit(x_train,y_train)\n",
    "y_pred3=svc.predict(x_test)\n",
    "accuracy_score(y_test,y_pred3)"
   ]
  },
  {
   "cell_type": "code",
   "execution_count": 146,
   "metadata": {},
   "outputs": [],
   "source": [
    "\n",
    "model=[logreg,svc]\n",
    "h=0.02\n",
    "\n",
    "from matplotlib.colors import ListedColormap\n",
    "\n",
    "# Create list of three colors (corresponding to two class values)\n",
    "light_colors =  ListedColormap(['gray', 'c'])      # 'c' for cyan and 'g' for green\n",
    "bold_colors  =  ListedColormap(['r',    'k'])      # 'r' for red  and 'k' for black \n",
    "\n",
    "#light_colors = ListedColormap(['#FFAAAA', '#AAFFAA', '#AAAAFF'])\n",
    "#bold_colors  = ListedColormap(['#FF0000', '#00FF00', '#0000FF'])"
   ]
  },
  {
   "cell_type": "code",
   "execution_count": 160,
   "metadata": {},
   "outputs": [
    {
     "data": {
      "image/png": "[encoded data removed]",
      "text/plain": [
       "<Figure size 864x432 with 1 Axes>"
      ]
     },
     "metadata": {},
     "output_type": "display_data"
    }
   ],
   "source": [
    "# X - some data in 2dimensional np.array\n",
    "    \n",
    "x_min, x_max = x_test[:, 0].min() - 1, x_test[:, 0].max() + 1\n",
    "y_min, y_max = x_test[:, 1].min() - 1, x_test[:, 1].max() + 1\n",
    "xx, yy = np.meshgrid(np.arange(x_min, x_max, h),\n",
    "                     np.arange(y_min, y_max, h))\n",
    "\n",
    "# here \"model\" is your model's prediction (classification) function\n",
    "Z = logreg.predict(np.c_[xx.ravel(), yy.ravel()]) \n",
    "Z = Z.reshape(xx.shape)\n",
    "\n",
    "# Put the result into a color plot\n",
    "plt.figure(figsize=(12,6))\n",
    "plt.pcolormesh(xx, yy, Z,  cmap=light_colors)\n",
    "\n",
    "# Plot the test points\n",
    "plt.scatter(x_test[:, 0], x_test[:, 1], c=y_test, cmap=bold_colors)\n",
    "plt.xlabel('PrefixSuffix')\n",
    "plt.ylabel('Anchor URL')\n",
    "plt.title('Logistic Regression as Phishing detector classifier')\n",
    "plt.show()"
   ]
  },
  {
   "cell_type": "code",
   "execution_count": 163,
   "metadata": {},
   "outputs": [
    {
     "ename": "TypeError",
     "evalue": "'LogisticRegression' object is not iterable",
     "output_type": "error",
     "traceback": [
      "\u001b[1;31m---------------------------------------------------------------------------\u001b[0m",
      "\u001b[1;31mTypeError\u001b[0m                                 Traceback (most recent call last)",
      "\u001b[1;32m<ipython-input-163-ad6dd3fb714e>\u001b[0m in \u001b[0;36m<module>\u001b[1;34m\u001b[0m\n\u001b[1;32m----> 1\u001b[1;33m \u001b[1;32mfor\u001b[0m \u001b[0mi\u001b[0m \u001b[1;32min\u001b[0m \u001b[0mmodel\u001b[0m\u001b[1;33m:\u001b[0m\u001b[1;33m\u001b[0m\u001b[1;33m\u001b[0m\u001b[0m\n\u001b[0m\u001b[0;32m      2\u001b[0m     \u001b[0mx_min\u001b[0m\u001b[1;33m,\u001b[0m \u001b[0mx_max\u001b[0m \u001b[1;33m=\u001b[0m \u001b[0mx_test\u001b[0m\u001b[1;33m[\u001b[0m\u001b[1;33m:\u001b[0m\u001b[1;33m,\u001b[0m \u001b[1;36m0\u001b[0m\u001b[1;33m]\u001b[0m\u001b[1;33m.\u001b[0m\u001b[0mmin\u001b[0m\u001b[1;33m(\u001b[0m\u001b[1;33m)\u001b[0m \u001b[1;33m-\u001b[0m \u001b[1;36m1\u001b[0m\u001b[1;33m,\u001b[0m \u001b[0mx_test\u001b[0m\u001b[1;33m[\u001b[0m\u001b[1;33m:\u001b[0m\u001b[1;33m,\u001b[0m \u001b[1;36m0\u001b[0m\u001b[1;33m]\u001b[0m\u001b[1;33m.\u001b[0m\u001b[0mmax\u001b[0m\u001b[1;33m(\u001b[0m\u001b[1;33m)\u001b[0m \u001b[1;33m+\u001b[0m \u001b[1;36m1\u001b[0m\u001b[1;33m\u001b[0m\u001b[1;33m\u001b[0m\u001b[0m\n\u001b[0;32m      3\u001b[0m     \u001b[0my_min\u001b[0m\u001b[1;33m,\u001b[0m \u001b[0my_max\u001b[0m \u001b[1;33m=\u001b[0m \u001b[0mx_test\u001b[0m\u001b[1;33m[\u001b[0m\u001b[1;33m:\u001b[0m\u001b[1;33m,\u001b[0m \u001b[1;36m1\u001b[0m\u001b[1;33m]\u001b[0m\u001b[1;33m.\u001b[0m\u001b[0mmin\u001b[0m\u001b[1;33m(\u001b[0m\u001b[1;33m)\u001b[0m \u001b[1;33m-\u001b[0m \u001b[1;36m1\u001b[0m\u001b[1;33m,\u001b[0m \u001b[0mx_test\u001b[0m\u001b[1;33m[\u001b[0m\u001b[1;33m:\u001b[0m\u001b[1;33m,\u001b[0m \u001b[1;36m1\u001b[0m\u001b[1;33m]\u001b[0m\u001b[1;33m.\u001b[0m\u001b[0mmax\u001b[0m\u001b[1;33m(\u001b[0m\u001b[1;33m)\u001b[0m \u001b[1;33m+\u001b[0m \u001b[1;36m1\u001b[0m\u001b[1;33m\u001b[0m\u001b[1;33m\u001b[0m\u001b[0m\n\u001b[0;32m      4\u001b[0m     xx, yy = np.meshgrid(np.arange(x_min, x_max, h),\n\u001b[0;32m      5\u001b[0m                      np.arange(y_min, y_max, h))\n",
      "\u001b[1;31mTypeError\u001b[0m: 'LogisticRegression' object is not iterable"
     ]
    }
   ],
   "source": [
    "for i in model:\n",
    "    x_min, x_max = x_test[:, 0].min() - 1, x_test[:, 0].max() + 1\n",
    "    y_min, y_max = x_test[:, 1].min() - 1, x_test[:, 1].max() + 1\n",
    "    xx, yy = np.meshgrid(np.arange(x_min, x_max, h),\n",
    "                     np.arange(y_min, y_max, h))\n",
    "\n",
    "   # here \"model\" is your model's prediction (classification) function\n",
    "    Z = model.predict(np.c_[xx.ravel(), yy.ravel()]) \n",
    "    Z = Z.reshape(xx.shape)\n",
    "\n",
    "   # Put the result into a color plot\n",
    "    plt.figure(figsize=(12,6))\n",
    "    plt.pcolormesh(xx, yy, Z,  cmap=light_colors)\n",
    "\n",
    "    # Plot the test points\n",
    "    plt.scatter(x_test[:, 0], x_test[:, 1], c=y_test, cmap=bold_colors)\n",
    "    plt.xlabel('PrefixSuffix')\n",
    "    plt.ylabel('Anchor URL')\n",
    "    plt.title('Logistic Regression as Phishing detector classifier')\n",
    "    plt.show()"
   ]
  },
  {
   "cell_type": "code",
   "execution_count": null,
   "metadata": {},
   "outputs": [],
   "source": []
  }
 ],
 "metadata": {
  "kernelspec": {
   "display_name": "Python 3",
   "language": "python",
   "name": "python3"
  },
  "language_info": {
   "codemirror_mode": {
    "name": "ipython",
    "version": 3
   },
   "file_extension": ".py",
   "mimetype": "text/x-python",
   "name": "python",
   "nbconvert_exporter": "python",
   "pygments_lexer": "ipython3",
   "version": "3.7.3"
  }
 },
 "nbformat": 4,
 "nbformat_minor": 2
}
